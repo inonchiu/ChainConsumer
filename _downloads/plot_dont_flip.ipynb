{
  "nbformat": 4,
  "nbformat_minor": 0,
  "cells": [
    {
      "cell_type": "code",
      "outputs": [],
      "metadata": {
        "collapsed": false
      },
      "execution_count": null,
      "source": [
        "%matplotlib inline"
      ]
    },
    {
      "cell_type": "markdown",
      "source": [
        "\n=====================\nFlips, Ticks and Size\n=====================\n\nYou can stop the second parameter rotating in the plot if you prefer squares!\n\nUnlike the Introduction example, which shows the rotated plots, this example shows them\nwithout the rotation.\n\nAlso, you can pass in a tuple for the figure size. We also demonstrate adding more\nticks to the axis in this example. Also, I change the colour to red, just for fun.\n\n"
      ],
      "metadata": {}
    },
    {
      "cell_type": "code",
      "outputs": [],
      "metadata": {
        "collapsed": false
      },
      "execution_count": null,
      "source": [
        "import numpy as np\nfrom chainconsumer import ChainConsumer\n\nif __name__ == \"__main__\":\n    np.random.seed(0)\n    data = np.random.multivariate_normal([0.0, 4.0], [[1.0, 0.7], [0.7, 1.5]], size=1000000)\n\n    c = ChainConsumer().add_chain(data, parameters=[\"$x_1$\", \"$x_2$\"])\n    c.configure_general(flip=False, max_ticks=10, colours=\"#D32F2F\")\n    fig = c.plot(figsize=(6, 6))\n\n    fig.set_size_inches(2.5 + fig.get_size_inches())  # Resize fig for doco. You don't need this."
      ]
    }
  ],
  "metadata": {
    "language_info": {
      "mimetype": "text/x-python",
      "codemirror_mode": {
        "name": "ipython",
        "version": 3
      },
      "version": "3.5.2",
      "nbconvert_exporter": "python",
      "file_extension": ".py",
      "name": "python",
      "pygments_lexer": "ipython3"
    },
    "kernelspec": {
      "display_name": "Python 3",
      "name": "python3",
      "language": "python"
    }
  }
}