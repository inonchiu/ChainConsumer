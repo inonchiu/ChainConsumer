{
  "nbformat": 4,
  "nbformat_minor": 0,
  "cells": [
    {
      "cell_type": "code",
      "outputs": [],
      "metadata": {
        "collapsed": false
      },
      "execution_count": null,
      "source": [
        "%matplotlib inline"
      ]
    },
    {
      "cell_type": "markdown",
      "source": [
        "\n# Colours and Shading\n\n\nChoose custom colours and plot multiple chains with shading.\n\nNormally when plotting more than two chains, shading is removed so\nyou can clearly see the outlines. However, you can turn shading back\non and modify the shade opacity if you prefer colourful plots.\n\nNote that the contour shading and marginalised shading are separate\nand are configured independently.\n\nColours should be given as hex colours.\n\n"
      ],
      "metadata": {}
    },
    {
      "cell_type": "code",
      "outputs": [],
      "metadata": {
        "collapsed": false
      },
      "execution_count": null,
      "source": [
        "import numpy as np\nfrom numpy.random import normal, multivariate_normal\nfrom chainconsumer import ChainConsumer\n\nif __name__ == \"__main__\":\n    np.random.seed(2)\n    cov = normal(size=(2, 2)) + np.identity(2)\n    d1 = multivariate_normal(normal(size=2), 0.5 * (cov + cov.T), size=100000)\n    cov = normal(size=(2, 2)) + np.identity(2)\n    d2 = multivariate_normal(normal(size=2), 0.5 * (cov + cov.T), size=100000)\n    cov = normal(size=(2, 2)) + np.identity(2)\n    d3 = multivariate_normal(normal(size=2), 0.5 * (cov + cov.T), size=100000)\n\n    c = ChainConsumer().add_chain(d1, parameters=[\"$x$\", \"$y$\"]).add_chain(d2).add_chain(d3)\n    c.configure_general(colours=[\"#B32222\", \"#D1D10D\", \"#455A64\"])\n    c.configure_contour(shade=True, shade_alpha=0.2)\n    c.configure_bar(shade=True)\n    fig = c.plot()\n\n    fig.set_size_inches(2.5 + fig.get_size_inches())  # Resize fig for doco. You don't need this."
      ]
    }
  ],
  "metadata": {
    "language_info": {
      "mimetype": "text/x-python",
      "codemirror_mode": {
        "name": "ipython",
        "version": 3
      },
      "version": "3.5.2",
      "nbconvert_exporter": "python",
      "file_extension": ".py",
      "name": "python",
      "pygments_lexer": "ipython3"
    },
    "kernelspec": {
      "display_name": "Python 3",
      "name": "python3",
      "language": "python"
    }
  }
}