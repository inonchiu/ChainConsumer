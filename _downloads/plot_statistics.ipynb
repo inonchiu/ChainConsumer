{
  "nbformat": 4,
  "nbformat_minor": 0,
  "cells": [
    {
      "cell_type": "code",
      "outputs": [],
      "metadata": {
        "collapsed": false
      },
      "execution_count": null,
      "source": [
        "%matplotlib inline"
      ]
    },
    {
      "cell_type": "markdown",
      "source": [
        "\n# Statistics\n\n\nDemonstrates the different statistics you can use with ChainConsumer.\n\n\n\n"
      ],
      "metadata": {}
    },
    {
      "cell_type": "markdown",
      "source": [
        "By default, ChainConsumer uses maximum likelihood statistics. Thus you do not\nneed to explicitly enable maximum likelihood statistics. If you want to\nanyway, the keyword is `\"max\"`.\n\n"
      ],
      "metadata": {}
    },
    {
      "cell_type": "code",
      "outputs": [],
      "metadata": {
        "collapsed": false
      },
      "execution_count": null,
      "source": [
        "import numpy as np\nfrom scipy.stats import skewnorm\nfrom chainconsumer import ChainConsumer\n\n# Lets create some data here to set things up\nnp.random.seed(0)\ndata = skewnorm.rvs(5, size=(1000000, 2))\nparameters = [\"$x$\", \"$y$\"]\n\n\n# Now the normal way of giving data is passing a numpy array and parameter separately\nc = ChainConsumer().add_chain(data, parameters=parameters).configure_general(statistics=\"max\")\nfig = c.plot()\nfig.set_size_inches(2.5 + fig.get_size_inches())  # Resize fig for doco. You don't need this."
      ]
    },
    {
      "cell_type": "markdown",
      "source": [
        "Or we can enable cumulative statistics\n\n"
      ],
      "metadata": {}
    },
    {
      "cell_type": "code",
      "outputs": [],
      "metadata": {
        "collapsed": false
      },
      "execution_count": null,
      "source": [
        "c = ChainConsumer().add_chain(data, parameters=parameters).configure_general(statistics=\"cumulative\")\nfig = c.plot()\nfig.set_size_inches(2.5 + fig.get_size_inches())  # Resize fig for doco. You don't need this."
      ]
    },
    {
      "cell_type": "markdown",
      "source": [
        "Or we can enable mean statistics\n\n"
      ],
      "metadata": {}
    },
    {
      "cell_type": "code",
      "outputs": [],
      "metadata": {
        "collapsed": false
      },
      "execution_count": null,
      "source": [
        "c = ChainConsumer().add_chain(data, parameters=parameters).configure_general(statistics=\"mean\")\nfig = c.plot()\nfig.set_size_inches(2.5 + fig.get_size_inches())  # Resize fig for doco. You don't need this."
      ]
    },
    {
      "cell_type": "markdown",
      "source": [
        "We can also take advantage of the ability to pass lists to ChainConsumer's\nconfiguration to have report different statistics for different chains.\nPlease note, I don't recommend you do this in practise, it is just begging\nfor confusion.\n\n"
      ],
      "metadata": {}
    },
    {
      "cell_type": "code",
      "outputs": [],
      "metadata": {
        "collapsed": false
      },
      "execution_count": null,
      "source": [
        "c = ChainConsumer().add_chain(data, parameters=parameters)\nc.add_chain(data)\nc.add_chain(data)\nc.configure_general(statistics=[\"max\", \"mean\", \"cumulative\"],\n                    linestyles=[\"-\", \"--\", \":\"], linewidths=[1, 2, 3])\nc.configure_bar(shade=True)\nfig = c.plot()\nfig.set_size_inches(2.5 + fig.get_size_inches())  # Resize fig for doco. You don't need this."
      ]
    }
  ],
  "metadata": {
    "language_info": {
      "mimetype": "text/x-python",
      "codemirror_mode": {
        "name": "ipython",
        "version": 3
      },
      "version": "3.5.2",
      "nbconvert_exporter": "python",
      "file_extension": ".py",
      "name": "python",
      "pygments_lexer": "ipython3"
    },
    "kernelspec": {
      "display_name": "Python 3",
      "name": "python3",
      "language": "python"
    }
  }
}