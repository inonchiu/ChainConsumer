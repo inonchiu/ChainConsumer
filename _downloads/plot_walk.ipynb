{
  "nbformat": 4,
  "nbformat_minor": 0,
  "cells": [
    {
      "cell_type": "code",
      "outputs": [],
      "metadata": {
        "collapsed": false
      },
      "execution_count": null,
      "source": [
        "%matplotlib inline"
      ]
    },
    {
      "cell_type": "markdown",
      "source": [
        "\n# Plot Walks\n\n\nYou can also plot the walks that your chains have undertaken.\n\nThis is a very helpful plot to create when determining if your chains have\nconverged and mixed. Below is an example walk from a Metropolis-Hastings run,\nwhere we have set the optional parameters for the weights and posteriors,\ngiving the top two subplots.\n\n.. figure::     ../../examples/resources/exampleWalk.png\n    :align:     center\n\n\n"
      ],
      "metadata": {}
    },
    {
      "cell_type": "markdown",
      "source": [
        "To generate your own walk, with a 100 point smoothed walk overplotting,\nyou can use the following code:\n\n"
      ],
      "metadata": {}
    },
    {
      "cell_type": "code",
      "outputs": [],
      "metadata": {
        "collapsed": false
      },
      "execution_count": null,
      "source": [
        "import numpy as np\nfrom chainconsumer import ChainConsumer\n\nif __name__ == \"__main__\":\n    np.random.seed(0)\n    data = np.random.randn(10000, 2)\n    data[:, 1] += 1\n\n    ps = [\"$x$\", \"$y$\"]\n    fig = ChainConsumer().add_chain(data, parameters=ps).plot_walks(truth=[0, 1], convolve=100)\n\n    fig.set_size_inches(2.5 + fig.get_size_inches())  # Resize fig for doco. You don't need this."
      ]
    }
  ],
  "metadata": {
    "language_info": {
      "mimetype": "text/x-python",
      "codemirror_mode": {
        "name": "ipython",
        "version": 3
      },
      "version": "3.5.2",
      "nbconvert_exporter": "python",
      "file_extension": ".py",
      "name": "python",
      "pygments_lexer": "ipython3"
    },
    "kernelspec": {
      "display_name": "Python 3",
      "name": "python3",
      "language": "python"
    }
  }
}