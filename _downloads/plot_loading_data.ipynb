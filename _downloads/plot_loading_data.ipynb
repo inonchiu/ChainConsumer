{
  "nbformat": 4,
  "nbformat_minor": 0,
  "cells": [
    {
      "cell_type": "code",
      "outputs": [],
      "metadata": {
        "collapsed": false
      },
      "execution_count": null,
      "source": [
        "%matplotlib inline"
      ]
    },
    {
      "cell_type": "markdown",
      "source": [
        "\n# Loading Data\n\n\nDemonstrates the different ways of loading data!\n\n\n\n"
      ],
      "metadata": {}
    },
    {
      "cell_type": "markdown",
      "source": [
        "You can specify truth values using a list (in the same order as the\ndeclared parameters).\n\n"
      ],
      "metadata": {}
    },
    {
      "cell_type": "code",
      "outputs": [],
      "metadata": {
        "collapsed": false
      },
      "execution_count": null,
      "source": [
        "import numpy as np\nfrom numpy.random import normal, multivariate_normal\nimport tempfile\nimport os\nfrom chainconsumer import ChainConsumer\n\n# Lets create some data here to set things up\nnp.random.seed(4)\ncov = 0.2 * normal(size=(2, 2)) + np.identity(2)\ntruth = normal(size=2)\ndata = multivariate_normal(truth, 0.5 * (cov + cov.T), size=100000)\nparameters = [\"$x$\", \"$y$\"]\ndictionary = {\"$x$\": data[:, 0], \"$y$\": data[:, 1]}\ndirectory = tempfile._get_default_tempdir()\nfilename = next(tempfile._get_candidate_names())\nfilename1 = directory + os.sep + filename + \".txt\"\nfilename2 = directory + os.sep + filename + \".npy\"\nnp.savetxt(filename1, data)\nnp.save(filename2, data)\n\n# Now the normal way of giving data is passing a numpy array and parameter separately\nc = ChainConsumer().add_chain(data, parameters=parameters)\nfig = c.plot(truth=truth)\nfig.set_size_inches(2.5 + fig.get_size_inches())  # Resize fig for doco. You don't need this."
      ]
    },
    {
      "cell_type": "markdown",
      "source": [
        "And yet we can do the same thing using a dictionary:\n\n"
      ],
      "metadata": {}
    },
    {
      "cell_type": "code",
      "outputs": [],
      "metadata": {
        "collapsed": false
      },
      "execution_count": null,
      "source": [
        "c = ChainConsumer().add_chain(dictionary)\nfig = c.plot(truth=truth)\nfig.set_size_inches(2.5 + fig.get_size_inches())  # Resize fig for doco. You don't need this."
      ]
    },
    {
      "cell_type": "markdown",
      "source": [
        "Or we can pass a filename in containing a text dump of the chain\n\n"
      ],
      "metadata": {}
    },
    {
      "cell_type": "code",
      "outputs": [],
      "metadata": {
        "collapsed": false
      },
      "execution_count": null,
      "source": [
        "c = ChainConsumer().add_chain(filename1, parameters=parameters)\nfig = c.plot(truth=truth)\nfig.set_size_inches(2.5 + fig.get_size_inches())  # Resize fig for doco. You don't need this."
      ]
    },
    {
      "cell_type": "markdown",
      "source": [
        "Or we can pass a filename for a file containing a binary numpy array\n\n"
      ],
      "metadata": {}
    },
    {
      "cell_type": "code",
      "outputs": [],
      "metadata": {
        "collapsed": false
      },
      "execution_count": null,
      "source": [
        "c = ChainConsumer().add_chain(filename2, parameters=parameters)\nfig = c.plot(truth=truth)\nfig.set_size_inches(2.5 + fig.get_size_inches())  # Resize fig for doco. You don't need this."
      ]
    }
  ],
  "metadata": {
    "language_info": {
      "mimetype": "text/x-python",
      "codemirror_mode": {
        "name": "ipython",
        "version": 3
      },
      "version": "3.5.2",
      "nbconvert_exporter": "python",
      "file_extension": ".py",
      "name": "python",
      "pygments_lexer": "ipython3"
    },
    "kernelspec": {
      "display_name": "Python 3",
      "name": "python3",
      "language": "python"
    }
  }
}