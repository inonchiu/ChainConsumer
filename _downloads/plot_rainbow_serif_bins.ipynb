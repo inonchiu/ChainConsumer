{
  "nbformat": 4,
  "nbformat_minor": 0,
  "cells": [
    {
      "cell_type": "code",
      "outputs": [],
      "metadata": {
        "collapsed": false
      },
      "execution_count": null,
      "source": [
        "%matplotlib inline"
      ]
    },
    {
      "cell_type": "markdown",
      "source": [
        "\n# Rainbow and Custom Bins\n\n\nInvoke rainbow colour scheme and choose how many bins to use with your data.\n\nBy default, the rainbow colour scheme is used if you have many, many chains. You can\nenable it before that point if you wish. You can also pick how many bins you want to\ndisplay your data with.\n\nYou can see that in this example, we pick too many bins and would not get good\nsummaries. If you simply want more (or less) bins than the default estimate,\nif you input a float instead of an integer, the number of bins will simply scale\nby that amount. For example, if the estimated picks 20 bins, and you set ``bins=1.5``\nyour plots and summaries would be calculated with 30 bins.\n\n\n"
      ],
      "metadata": {}
    },
    {
      "cell_type": "code",
      "outputs": [],
      "metadata": {
        "collapsed": false
      },
      "execution_count": null,
      "source": [
        "import numpy as np\nfrom numpy.random import normal, random, multivariate_normal\nfrom chainconsumer import ChainConsumer\n\n\nif __name__ == \"__main__\":\n    np.random.seed(0)\n    cov = 0.3 * random(size=(3, 3)) + np.identity(3)\n    data = multivariate_normal(normal(size=3), 0.5 * (cov + cov.T), size=100000)\n    cov = 0.3 * random(size=(3, 3)) + np.identity(3)\n    data2 = multivariate_normal(normal(size=3), 0.5 * (cov + cov.T), size=100000)\n    cov = 0.3 * random(size=(3, 3)) + np.identity(3)\n    data3 = multivariate_normal(normal(size=3), 0.5 * (cov + cov.T), size=100000)\n    cov = 0.3 * random(size=(3, 3)) + np.identity(3)\n    data4 = multivariate_normal(normal(size=3), 0.5 * (cov + cov.T), size=100000)\n\n    c = ChainConsumer()\n    c.add_chain(data, name=\"A\")\n    c.add_chain(data2, name=\"B\")\n    c.add_chain(data3, name=\"C\")\n    c.add_chain(data4, name=\"D\")\n    c.configure_general(bins=50, rainbow=True)\n    fig = c.plot()\n\n    fig.set_size_inches(2.5 + fig.get_size_inches())  # Resize fig for doco. You don't need this."
      ]
    }
  ],
  "metadata": {
    "language_info": {
      "mimetype": "text/x-python",
      "codemirror_mode": {
        "name": "ipython",
        "version": 3
      },
      "version": "3.5.2",
      "nbconvert_exporter": "python",
      "file_extension": ".py",
      "name": "python",
      "pygments_lexer": "ipython3"
    },
    "kernelspec": {
      "display_name": "Python 3",
      "name": "python3",
      "language": "python"
    }
  }
}