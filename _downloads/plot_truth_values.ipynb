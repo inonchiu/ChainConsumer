{
  "nbformat": 4,
  "nbformat_minor": 0,
  "cells": [
    {
      "cell_type": "code",
      "outputs": [],
      "metadata": {
        "collapsed": false
      },
      "execution_count": null,
      "source": [
        "%matplotlib inline"
      ]
    },
    {
      "cell_type": "markdown",
      "source": [
        "\n# Truth Values\n\n\nPlot truth values on top of your contours.\n\n\n"
      ],
      "metadata": {}
    },
    {
      "cell_type": "markdown",
      "source": [
        "You can specify truth values using a list (in the same order as the\ndeclared parameters).\n\n"
      ],
      "metadata": {}
    },
    {
      "cell_type": "code",
      "outputs": [],
      "metadata": {
        "collapsed": false
      },
      "execution_count": null,
      "source": [
        "import numpy as np\nfrom numpy.random import normal, multivariate_normal\nfrom chainconsumer import ChainConsumer\n\nnp.random.seed(2)\ncov = 0.2 * normal(size=(3, 3)) + np.identity(3)\ntruth = normal(size=3)\ndata = multivariate_normal(truth, 0.5 * (cov + cov.T), size=100000)\n\nc = ChainConsumer().add_chain(data, parameters=[\"$x$\", \"$y$\", r\"$\\beta$\"])\nfig = c.plot(truth=truth)\nfig.set_size_inches(2.5 + fig.get_size_inches())  # Resize fig for doco. You don't need this."
      ]
    },
    {
      "cell_type": "markdown",
      "source": [
        "Or you can specify truth values using a dictionary. This allows you to specify\ntruth values for only some parameters. You can also customise the look\nof your truth lines.\n\n"
      ],
      "metadata": {}
    },
    {
      "cell_type": "code",
      "outputs": [],
      "metadata": {
        "collapsed": false
      },
      "execution_count": null,
      "source": [
        "c.configure_truth(color='w', ls=\":\", alpha=0.8)\nfig2 = c.plot(truth={\"$x$\": truth[0], \"$y$\": truth[1]})\nfig2.set_size_inches(2.5 + fig2.get_size_inches())  # Resize fig for doco. You don't need this."
      ]
    }
  ],
  "metadata": {
    "language_info": {
      "mimetype": "text/x-python",
      "codemirror_mode": {
        "name": "ipython",
        "version": 3
      },
      "version": "3.5.2",
      "nbconvert_exporter": "python",
      "file_extension": ".py",
      "name": "python",
      "pygments_lexer": "ipython3"
    },
    "kernelspec": {
      "display_name": "Python 3",
      "name": "python3",
      "language": "python"
    }
  }
}