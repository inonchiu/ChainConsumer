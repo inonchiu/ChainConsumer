{
  "nbformat": 4,
  "nbformat_minor": 0,
  "cells": [
    {
      "cell_type": "code",
      "outputs": [],
      "metadata": {
        "collapsed": false
      },
      "execution_count": null,
      "source": [
        "%matplotlib inline"
      ]
    },
    {
      "cell_type": "markdown",
      "source": [
        "\n# Plot Contours\n\n\nA trivial example using data from a multivariate normal.\n\nWe give truth values, parameter labels and set the figure size to\nfit one column of a two column document.\n\nIt is important to note that (in future examples) we always call the\nconfiguration methods *after* loading in all the data.\n\nNote that the parameter summaries are all calculated from the chosen bin size and take\ninto account if the data is being smoothed or not. It is thus important to consider\nwhether you want smoothing enabled or (depending on your surfaces) more or less\nbins than automatically estimated. See the extended customisation examples for\nmore information.\n\n\n"
      ],
      "metadata": {}
    },
    {
      "cell_type": "code",
      "outputs": [],
      "metadata": {
        "collapsed": false
      },
      "execution_count": null,
      "source": [
        "import numpy as np\nfrom chainconsumer import ChainConsumer\n\nif __name__ == \"__main__\":\n    np.random.seed(0)\n    data = np.random.multivariate_normal([0.0, 4.0], [[1.0, 0.7], [0.7, 1.5]], size=1000000)\n\n    c = ChainConsumer()\n    c.add_chain(data, parameters=[\"$x_1$\", \"$x_2$\"])\n    fig = c.plot(figsize=\"column\", truth=[0.0, 4.0])\n\n    # If we wanted to save to file, we would instead have written\n    # fig = c.plot(filename=\"location\", figsize=\"column\", truth=[0.0, 4.0])\n\n    # If we wanted to display the plot interactively...\n    # fig = c.plot(display=True, figsize=\"column\", truth=[0.0, 4.0])\n\n    fig.set_size_inches(2.5 + fig.get_size_inches())  # Resize fig for doco. You don't need this."
      ]
    }
  ],
  "metadata": {
    "language_info": {
      "mimetype": "text/x-python",
      "codemirror_mode": {
        "name": "ipython",
        "version": 3
      },
      "version": "3.5.2",
      "nbconvert_exporter": "python",
      "file_extension": ".py",
      "name": "python",
      "pygments_lexer": "ipython3"
    },
    "kernelspec": {
      "display_name": "Python 3",
      "name": "python3",
      "language": "python"
    }
  }
}