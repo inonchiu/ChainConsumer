{
  "nbformat": 4,
  "nbformat_minor": 0,
  "cells": [
    {
      "cell_type": "code",
      "outputs": [],
      "metadata": {
        "collapsed": false
      },
      "execution_count": null,
      "source": [
        "%matplotlib inline"
      ]
    },
    {
      "cell_type": "markdown",
      "source": [
        "\n# Truncated Parameters\n\n\nIf you have a large model, you don't need to plot all parameters at once.\n\nHere we only plot the first four parameters. You could also simply pass the number four,\nwhich means the *first* four parameters.\n\nFor fun, we also plot everything in green. Note you don't need to give multiple colours,\nthe shading is all computed from the colour hex code.\n\n"
      ],
      "metadata": {}
    },
    {
      "cell_type": "code",
      "outputs": [],
      "metadata": {
        "collapsed": false
      },
      "execution_count": null,
      "source": [
        "import numpy as np\nfrom numpy.random import normal, random, multivariate_normal\nfrom chainconsumer import ChainConsumer\n\n\nif __name__ == \"__main__\":\n    np.random.seed(0)\n    cov = random(size=(6, 6))\n    data = multivariate_normal(normal(size=6), 0.5 * (cov + cov.T), size=200000)\n    parameters = [\"$x$\", \"$y$\", \"$z$\", \"$a$\", \"$b$\", \"$c$\"]\n    c = ChainConsumer().add_chain(data, parameters=parameters).configure_general(colours=[\"#388E3C\"])\n    fig = c.plot(parameters=parameters[:4], figsize=\"page\")\n\n    fig.set_size_inches(2.5 + fig.get_size_inches())  # Resize fig for doco. You don't need this."
      ]
    }
  ],
  "metadata": {
    "language_info": {
      "mimetype": "text/x-python",
      "codemirror_mode": {
        "name": "ipython",
        "version": 3
      },
      "version": "3.5.2",
      "nbconvert_exporter": "python",
      "file_extension": ".py",
      "name": "python",
      "pygments_lexer": "ipython3"
    },
    "kernelspec": {
      "display_name": "Python 3",
      "name": "python3",
      "language": "python"
    }
  }
}