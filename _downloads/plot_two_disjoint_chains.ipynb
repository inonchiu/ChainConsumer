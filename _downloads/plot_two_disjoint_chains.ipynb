{
  "nbformat": 4,
  "nbformat_minor": 0,
  "cells": [
    {
      "cell_type": "code",
      "outputs": [],
      "metadata": {
        "collapsed": false
      },
      "execution_count": null,
      "source": [
        "%matplotlib inline"
      ]
    },
    {
      "cell_type": "markdown",
      "source": [
        "\n# Two Disjoint Chains\n\n\nYou can plot multiple chains. They can even have different parameters!\n\n\n\n"
      ],
      "metadata": {}
    },
    {
      "cell_type": "code",
      "outputs": [],
      "metadata": {
        "collapsed": false
      },
      "execution_count": null,
      "source": [
        "import numpy as np\nfrom numpy.random import normal, multivariate_normal\nfrom chainconsumer import ChainConsumer\n\n\nif __name__ == \"__main__\":\n    np.random.seed(0)\n    cov = normal(size=(3, 3))\n    cov2 = normal(size=(4, 4))\n    data = multivariate_normal(normal(size=3), 0.5 * (cov + cov.T), size=100000)\n    data2 = multivariate_normal(normal(size=4), 0.5 * (cov2 + cov2.T), size=100000)\n\n    c = ChainConsumer()\n    c.add_chain(data, parameters=[\"$x$\", \"$y$\", r\"$\\alpha$\"])\n    c.add_chain(data2, parameters=[\"$x$\", \"$y$\", r\"$\\alpha$\", r\"$\\gamma$\"])\n    fig = c.plot()\n\n    fig.set_size_inches(2.5 + fig.get_size_inches())  # Resize fig for doco. You don't need this."
      ]
    }
  ],
  "metadata": {
    "language_info": {
      "mimetype": "text/x-python",
      "codemirror_mode": {
        "name": "ipython",
        "version": 3
      },
      "version": "3.5.2",
      "nbconvert_exporter": "python",
      "file_extension": ".py",
      "name": "python",
      "pygments_lexer": "ipython3"
    },
    "kernelspec": {
      "display_name": "Python 3",
      "name": "python3",
      "language": "python"
    }
  }
}